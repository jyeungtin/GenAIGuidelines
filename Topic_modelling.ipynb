{
 "cells": [
  {
   "attachments": {},
   "cell_type": "markdown",
   "metadata": {},
   "source": [
    "## Topic modelling for AI guidelines of newsrooms"
   ]
  },
  {
   "cell_type": "code",
   "execution_count": 1,
   "metadata": {},
   "outputs": [
    {
     "name": "stderr",
     "output_type": "stream",
     "text": [
      "C:\\Users\\shrim\\AppData\\Local\\Temp/ipykernel_9784/2378812823.py:6: ParserWarning: Falling back to the 'python' engine because the 'c' engine does not support skipfooter; you can avoid this warning by specifying engine='python'.\n",
      "  df = pd.read_csv('Guidelines_texts.csv', skipfooter=6)\n"
     ]
    }
   ],
   "source": [
    "#set up\n",
    "import pandas as pd\n",
    "import matplotlib.pyplot as plt\n",
    "import seaborn as sns\n",
    "\n",
    "df = pd.read_csv('Guidelines_texts.csv', skipfooter=6)\n",
    "\n",
    "df_full_text = df.dropna(subset=['Text'])"
   ]
  },
  {
   "attachments": {},
   "cell_type": "markdown",
   "metadata": {},
   "source": [
    "### Text preprocessing\n",
    "\n",
    "The following script makes use of SpaCy for multiple text pre-processing steps, including:\n",
    "\n",
    "1. NA dropping\n",
    "2. Tokenization\n",
    "3. Stop word removal"
   ]
  },
  {
   "cell_type": "code",
   "execution_count": 2,
   "metadata": {},
   "outputs": [],
   "source": [
    "import spacy\n",
    "\n",
    "#loading english model\n",
    "sp_en = spacy.load('en_core_web_sm')"
   ]
  },
  {
   "cell_type": "code",
   "execution_count": 3,
   "metadata": {},
   "outputs": [],
   "source": [
    "#Increase module max length for processing\n",
    "sp_en.max_length = 2000000\n",
    "\n",
    "#joining tokens to corpus creation\n",
    "doc = sp_en(''.join(str(df_full_text['Text'].tolist())))"
   ]
  },
  {
   "cell_type": "code",
   "execution_count": 4,
   "metadata": {},
   "outputs": [
    {
     "name": "stderr",
     "output_type": "stream",
     "text": [
      "C:\\Users\\shrim\\AppData\\Local\\Temp/ipykernel_9784/3624437474.py:20: SettingWithCopyWarning: \n",
      "A value is trying to be set on a copy of a slice from a DataFrame.\n",
      "Try using .loc[row_indexer,col_indexer] = value instead\n",
      "\n",
      "See the caveats in the documentation: https://pandas.pydata.org/pandas-docs/stable/user_guide/indexing.html#returning-a-view-versus-a-copy\n",
      "  df_full_text['tokens'] = tokening\n",
      "C:\\Users\\shrim\\AppData\\Local\\Temp/ipykernel_9784/3624437474.py:22: SettingWithCopyWarning: \n",
      "A value is trying to be set on a copy of a slice from a DataFrame.\n",
      "Try using .loc[row_indexer,col_indexer] = value instead\n",
      "\n",
      "See the caveats in the documentation: https://pandas.pydata.org/pandas-docs/stable/user_guide/indexing.html#returning-a-view-versus-a-copy\n",
      "  df_full_text['clean_text'] = df_full_text.apply(lambda x: ' '.join(x['tokens']),\n"
     ]
    }
   ],
   "source": [
    "#Tokenzing all\n",
    "from spacy.lang.en.stop_words import STOP_WORDS\n",
    "import re\n",
    "\n",
    "# #create stopwords for the pipeline\n",
    "# extra_stopwords = {'GENEVA','BEIJING','MOSCOW','WASHINGTON','NEW','DELHI','YORK', 'CAIRO', 'BRUSSELS', 'CANBERRA', 'ROME',}\n",
    "base_stopwords = sp_en.Defaults.stop_words\n",
    "# base_stopwords.remove('not')\n",
    "# base_stopwords.remove(\"no\")\n",
    "# base_stopwords.remove(\"n‘t\")\n",
    "# base_stopwords.remove(\"n’t\")\n",
    "\n",
    "#Append tokens to pandas dataframe \n",
    "tokening = []\n",
    "for text in sp_en.pipe(df_full_text['Text']):\n",
    "   tokenizer = [token.lemma_ for token in text if token.pos_ not in base_stopwords and token.text\n",
    "               and not token.is_stop and token.is_alpha and not token.is_punct]\n",
    "   tokening.append(tokenizer)\n",
    "\n",
    "df_full_text['tokens'] = tokening\n",
    "\n",
    "df_full_text['clean_text'] = df_full_text.apply(lambda x: ' '.join(x['tokens']), \n",
    "                                                axis = 1)"
   ]
  },
  {
   "attachments": {},
   "cell_type": "markdown",
   "metadata": {},
   "source": [
    "### Named Entity Recognition\n",
    "We use SpaCy's built-in module of NER to recognise three entity groups of interest, namely location and organization. NORP was included in the script but was not used as a part of the analysis."
   ]
  },
  {
   "attachments": {},
   "cell_type": "markdown",
   "metadata": {},
   "source": [
    "### Topic modelling\n",
    "\n",
    "For this project, we are going to gensim to conduct our topic modelling. We will use the LDA module to cluster topic key words for body texts and NMF for headlines. In addition, the main corpora will be split into two sets: (1) a full corpus and (2) a noun-only corpus.\n",
    "\n",
    "For coherence modelling, we will use u_mass and c_v as our coherence measures."
   ]
  },
  {
   "cell_type": "code",
   "execution_count": 5,
   "metadata": {},
   "outputs": [],
   "source": [
    "#Topic modelling: LDA full corpus\n",
    "import gensim.corpora as corpora\n",
    "import gensim\n",
    "from gensim.utils import simple_preprocess\n",
    "from gensim.corpora.dictionary import Dictionary\n",
    "\n",
    "#Dictionary creation\n",
    "dictionary = corpora.Dictionary(df_full_text['tokens'])\n",
    "\n",
    "#Remove low freq tokens\n",
    "dictionary.filter_extremes(no_below=10, keep_n=None)\n",
    "\n",
    "#Corpus creation: List tokens freq with id \n",
    "corpus = [dictionary.doc2bow(doc) for doc in df_full_text['tokens']]"
   ]
  },
  {
   "cell_type": "code",
   "execution_count": 6,
   "metadata": {},
   "outputs": [],
   "source": [
    "#Construct test LDA model: Full corpus\n",
    "from gensim.models import LdaMulticore\n",
    "\n",
    "lda_model = LdaMulticore(corpus=corpus, id2word=dictionary, iterations=50, \n",
    "                         num_topics=15, workers = 6, passes=10, chunksize = 50)"
   ]
  },
  {
   "cell_type": "code",
   "execution_count": 7,
   "metadata": {},
   "outputs": [
    {
     "name": "stderr",
     "output_type": "stream",
     "text": [
      "C:\\Users\\shrim\\AppData\\Local\\Temp/ipykernel_9784/1665977412.py:10: SettingWithCopyWarning: \n",
      "A value is trying to be set on a copy of a slice from a DataFrame.\n",
      "Try using .loc[row_indexer,col_indexer] = value instead\n",
      "\n",
      "See the caveats in the documentation: https://pandas.pydata.org/pandas-docs/stable/user_guide/indexing.html#returning-a-view-versus-a-copy\n",
      "  df_full_text['tokens_noun'] = tokening_nounonly\n"
     ]
    }
   ],
   "source": [
    "#Tokenzing only noun\n",
    "tokening_nounonly = []\n",
    "\n",
    "for text in sp_en.pipe(df_full_text['Text']):\n",
    "            tokenizer = [token.lemma_ for token in text if token.pos_ == \"NOUN\" or token.pos_ == \"PROPN\" and \n",
    "                         token.pos_ not in base_stopwords and token.text \n",
    "                         and not token.is_stop and token.is_alpha and not token.is_punct]\n",
    "            tokening_nounonly.append(tokenizer)\n",
    "    \n",
    "df_full_text['tokens_noun'] = tokening_nounonly"
   ]
  },
  {
   "cell_type": "code",
   "execution_count": 8,
   "metadata": {},
   "outputs": [],
   "source": [
    "#Topic modelling: LDA only noun\n",
    "\n",
    "#Dictionary creation\n",
    "dictionary_nounonly = corpora.Dictionary(df_full_text['tokens_noun'])\n",
    "\n",
    "#Remove low freq tokens\n",
    "dictionary_nounonly.filter_extremes(no_below=5, keep_n=None)\n",
    "\n",
    "#Corpus creation: List tokens freq with id \n",
    "corpus_nounonly = [dictionary.doc2bow(doc) for doc in df_full_text['tokens_noun']]"
   ]
  },
  {
   "cell_type": "code",
   "execution_count": 9,
   "metadata": {},
   "outputs": [],
   "source": [
    "#Construct LDA model: Noun only corpus\n",
    "lda_model_noun = gensim.models.LdaMulticore(corpus=corpus_nounonly,id2word=dictionary_nounonly,\n",
    "                                            num_topics=15,workers=6, passes=10, chunksize=50)"
   ]
  },
  {
   "cell_type": "code",
   "execution_count": 10,
   "metadata": {},
   "outputs": [],
   "source": [
    "#Model evaluation: Full corpus\n",
    "from gensim.models import CoherenceModel\n",
    "\n",
    "candidate_topics = []\n",
    "c_score = []\n",
    "\n",
    "#using C_v measure\n",
    "for i in range(1,15,1):\n",
    "    lda_model = LdaMulticore(corpus=corpus, id2word=dictionary, iterations=50, \n",
    "                         num_topics=i, workers = 6, passes=10)\n",
    "    cm = CoherenceModel(model=lda_model, corpus=corpus, dictionary=dictionary, coherence='c_v', \n",
    "                      texts = df_full_text['tokens'])\n",
    "    \n",
    "    candidate_topics.append(i)\n",
    "    c_score.append(cm.get_coherence())"
   ]
  },
  {
   "cell_type": "code",
   "execution_count": 11,
   "metadata": {},
   "outputs": [],
   "source": [
    "#using UMass (score based on document co-occurence)\n",
    "candidate_topics_umass = []\n",
    "c_score_umass = []\n",
    "\n",
    "for i in range(1,15,1):\n",
    "    lda_model = LdaMulticore(corpus=corpus, id2word=dictionary, iterations=50, \n",
    "                         num_topics=i, workers = 6, passes=10)\n",
    "    cm = CoherenceModel(model=lda_model, corpus=corpus, dictionary=dictionary, coherence='u_mass')\n",
    "    \n",
    "    candidate_topics_umass.append(i)\n",
    "    c_score_umass.append(cm.get_coherence())"
   ]
  },
  {
   "cell_type": "code",
   "execution_count": 12,
   "metadata": {},
   "outputs": [],
   "source": [
    "#Model evaluation: Noun only using cv\n",
    "candidate_topics_noun_cv = []\n",
    "c_score_noun_cv = []\n",
    "\n",
    "#using C_v measure\n",
    "for i in range(1,15,1):\n",
    "    lda_model = LdaMulticore(corpus=corpus_nounonly, id2word=dictionary_nounonly, iterations=50, \n",
    "                         num_topics=i, workers = 6, passes=10)\n",
    "    cm = CoherenceModel(model=lda_model, corpus=corpus_nounonly, dictionary=dictionary_nounonly, coherence='c_v', \n",
    "                      texts = df_full_text['tokens_noun'])\n",
    "    \n",
    "    candidate_topics_noun_cv.append(i)\n",
    "    c_score_noun_cv.append(cm.get_coherence())"
   ]
  },
  {
   "cell_type": "code",
   "execution_count": 13,
   "metadata": {},
   "outputs": [],
   "source": [
    "#using UMass (score based on document co-occurence)\n",
    "candidate_topics_noun_umass = []\n",
    "c_score_noun_umass = []\n",
    "\n",
    "for i in range(1,15,1):\n",
    "    lda_model = LdaMulticore(corpus=corpus_nounonly, id2word=dictionary_nounonly, iterations=50, \n",
    "                         num_topics=i, workers = 6, passes=10)\n",
    "    cm = CoherenceModel(model=lda_model, corpus=corpus_nounonly, dictionary=dictionary_nounonly, coherence='u_mass')\n",
    "    \n",
    "    candidate_topics_noun_umass.append(i)\n",
    "    c_score_noun_umass.append(cm.get_coherence())"
   ]
  },
  {
   "cell_type": "code",
   "execution_count": 51,
   "metadata": {},
   "outputs": [
    {
     "data": {
      "image/png": "[encoded data removed]",
      "text/plain": [
       "<Figure size 432x288 with 4 Axes>"
      ]
     },
     "metadata": {
      "needs_background": "light"
     },
     "output_type": "display_data"
    },
    {
     "data": {
      "text/plain": [
       "<Figure size 1440x8280 with 0 Axes>"
      ]
     },
     "metadata": {},
     "output_type": "display_data"
    }
   ],
   "source": [
    "#plotting coherence model\n",
    "\n",
    "\n",
    "fig, axs = plt.subplots(2, 2, constrained_layout=True, sharey='row')\n",
    "\n",
    "fig.suptitle('          Coherence model', fontsize=15)\n",
    "\n",
    "axs[0, 0].plot(candidate_topics_umass, c_score_umass)\n",
    "axs[0, 0].set_title('Corpus: Full corpus')\n",
    "axs[0, 0].set_xlabel('Number of topics')\n",
    "axs[0, 0].set_ylabel('Coherence score\\n(u_mass)')\n",
    "\n",
    "axs[0, 1].plot(candidate_topics_noun_umass, c_score_noun_umass)\n",
    "axs[0, 1].set_title('Corpus: Noun only')\n",
    "axs[0, 1].set_xlabel('Number of topics')\n",
    "\n",
    "axs[1, 0].plot(candidate_topics, c_score)\n",
    "axs[1, 0].set_xlabel('Number of topics')\n",
    "axs[1, 0].set_ylabel('Coherence score\\n(c_v)')\n",
    "\n",
    "axs[1, 1].plot(candidate_topics_noun_cv, c_score_noun_cv)\n",
    "axs[1, 1].set_xlabel('Number of topics')\n",
    "\n",
    "plt.figure(figsize=(20,115))\n",
    "plt.show()\n",
    "\n"
   ]
  },
  {
   "cell_type": "code",
   "execution_count": 23,
   "metadata": {},
   "outputs": [],
   "source": [
    "#Optimised model: Noun corpus\n",
    "lda_model = LdaMulticore(corpus=corpus_nounonly, id2word=dictionary_nounonly, iterations=50, \n",
    "                         num_topics=7, workers = 6, passes=10, chunksize = 50)"
   ]
  },
  {
   "cell_type": "code",
   "execution_count": 24,
   "metadata": {},
   "outputs": [
    {
     "data": {
      "text/plain": [
       "[(0,\n",
       "  '0.497*\"case\" + 0.095*\"bias\" + 0.095*\"context\" + 0.004*\"guideline\" + 0.004*\"idea\" + 0.004*\"feedback\" + 0.004*\"development\" + 0.004*\"decision\" + 0.004*\"generation\" + 0.004*\"application\"'),\n",
       " (1,\n",
       "  '0.014*\"decision\" + 0.014*\"bias\" + 0.013*\"context\" + 0.013*\"feedback\" + 0.013*\"development\" + 0.013*\"case\" + 0.013*\"idea\" + 0.013*\"generation\" + 0.013*\"guideline\" + 0.013*\"application\"'),\n",
       " (2,\n",
       "  '0.494*\"context\" + 0.083*\"idea\" + 0.047*\"decision\" + 0.022*\"guideline\" + 0.013*\"feedback\" + 0.006*\"development\" + 0.005*\"bias\" + 0.005*\"case\" + 0.005*\"generation\" + 0.005*\"application\"'),\n",
       " (3,\n",
       "  '0.041*\"development\" + 0.019*\"feedback\" + 0.014*\"idea\" + 0.013*\"guideline\" + 0.013*\"decision\" + 0.013*\"bias\" + 0.013*\"context\" + 0.013*\"case\" + 0.013*\"generation\" + 0.013*\"application\"'),\n",
       " (4,\n",
       "  '0.549*\"development\" + 0.125*\"decision\" + 0.056*\"case\" + 0.052*\"generation\" + 0.039*\"bias\" + 0.007*\"context\" + 0.002*\"application\" + 0.002*\"feedback\" + 0.002*\"idea\" + 0.002*\"guideline\"'),\n",
       " (5,\n",
       "  '0.199*\"bias\" + 0.103*\"development\" + 0.103*\"context\" + 0.055*\"feedback\" + 0.055*\"case\" + 0.007*\"idea\" + 0.007*\"decision\" + 0.007*\"guideline\" + 0.007*\"generation\" + 0.007*\"application\"'),\n",
       " (6,\n",
       "  '0.196*\"feedback\" + 0.176*\"idea\" + 0.167*\"bias\" + 0.115*\"decision\" + 0.105*\"guideline\" + 0.065*\"case\" + 0.032*\"context\" + 0.027*\"development\" + 0.012*\"generation\" + 0.011*\"application\"')]"
      ]
     },
     "execution_count": 24,
     "metadata": {},
     "output_type": "execute_result"
    }
   ],
   "source": [
    "#Print topics of full corpus\n",
    "lda_model.print_topics()"
   ]
  },
  {
   "cell_type": "code",
   "execution_count": 25,
   "metadata": {},
   "outputs": [],
   "source": [
    "#topic viz: Full corpus\n",
    "import pyLDAvis\n",
    "import pyLDAvis.gensim_models as gensimvis\n",
    "pyLDAvis.enable_notebook()\n",
    "\n",
    "lda_display = pyLDAvis.gensim_models.prepare(lda_model, corpus_nounonly, dictionary_nounonly)\n",
    "\n",
    "pyLDAvis.save_html(lda_display, 'Topic model.html')"
   ]
  },
  {
   "cell_type": "code",
   "execution_count": 26,
   "metadata": {},
   "outputs": [
    {
     "name": "stderr",
     "output_type": "stream",
     "text": [
      "C:\\Users\\shrim\\AppData\\Local\\Temp/ipykernel_9784/3873767656.py:22: SettingWithCopyWarning: \n",
      "A value is trying to be set on a copy of a slice from a DataFrame.\n",
      "Try using .loc[row_indexer,col_indexer] = value instead\n",
      "\n",
      "See the caveats in the documentation: https://pandas.pydata.org/pandas-docs/stable/user_guide/indexing.html#returning-a-view-versus-a-copy\n",
      "  df_full_text['topic_id'] = first_topic\n"
     ]
    }
   ],
   "source": [
    "#Grouping topics\n",
    "document_topic = []\n",
    "first_topic = []\n",
    "\n",
    "#Get topics of each article\n",
    "for i in range(len(corpus)):\n",
    "    topic_id = lda_model.get_document_topics(corpus_nounonly[i], 0.4)\n",
    "    document_topic.append(topic_id)\n",
    "    \n",
    "#Get topic id with highest score of each article\n",
    "for i in range(len(corpus_nounonly)):\n",
    "    try:\n",
    "        topic_id = max(document_topic[i])[0] \n",
    "        first_topic.append(topic_id)\n",
    "    except IndexError: \n",
    "            topic_id = 'NA'\n",
    "            first_topic.append(topic_id)\n",
    "    except ValueError: #append NA if empty list is passed\n",
    "            topic_id = 'NA'\n",
    "            first_topic.append(topic_id) \n",
    "\n",
    "df_full_text['topic_id'] = first_topic"
   ]
  }
 ],
 "metadata": {
  "kernelspec": {
   "display_name": "Python 3",
   "language": "python",
   "name": "python3"
  },
  "language_info": {
   "codemirror_mode": {
    "name": "ipython",
    "version": 3
   },
   "file_extension": ".py",
   "mimetype": "text/x-python",
   "name": "python",
   "nbconvert_exporter": "python",
   "pygments_lexer": "ipython3",
   "version": "3.9.1"
  },
  "orig_nbformat": 4
 },
 "nbformat": 4,
 "nbformat_minor": 2
}
